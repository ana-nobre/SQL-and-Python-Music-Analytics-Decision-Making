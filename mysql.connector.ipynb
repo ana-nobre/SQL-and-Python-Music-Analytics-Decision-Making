{
 "cells": [
  {
   "cell_type": "code",
   "execution_count": 1,
   "id": "ebdf1b6f",
   "metadata": {},
   "outputs": [],
   "source": [
    "import mysql.connector\n",
    "from mysql.connector import errorcode\n",
    "import csv"
   ]
  },
  {
   "cell_type": "code",
   "execution_count": 2,
   "id": "7b7d9a9e",
   "metadata": {},
   "outputs": [],
   "source": [
    "cnx = mysql.connector.connect(user='root', password='AlumnaAdalab',\n",
    "                              host='127.0.0.1',\n",
    "                              database='prueba1')"
   ]
  },
  {
   "cell_type": "code",
   "execution_count": 3,
   "id": "e68e62ba",
   "metadata": {},
   "outputs": [
    {
     "name": "stdout",
     "output_type": "stream",
     "text": [
      "CMySQLCursor: \n",
      "    CREATE TABLE tabla_tracks (\n",
      "       ..\n"
     ]
    }
   ],
   "source": [
    "mycursor = cnx.cursor()\n",
    "try:\n",
    "    mycursor.execute((\"\"\"\n",
    "    CREATE TABLE tabla_tracks (\n",
    "        id_track INT AUTO_INCREMENT PRIMARY KEY,\n",
    "        id_genero INT,\n",
    "        id_artista INT,\n",
    "        nombre_artista VARCHAR(50),\n",
    "        album VARCHAR(50),\n",
    "        fecha DATE,\n",
    "        tipo VARCHAR(50),\n",
    "        track VARCHAR(50),\n",
    "        CONSTRAINT fk_id_genero_tracks FOREIGN KEY (id_genero) REFERENCES tabla_genero(id_genero),\n",
    "        CONSTRAINT fk_id_artista_tracks FOREIGN KEY (id_artista) REFERENCES tabla_artista(id_artista)\n",
    "    )\n",
    "\"\"\"))\n",
    "    print(mycursor)\n",
    "except mysql.connector.Error as err:\n",
    "    print(err)\n",
    "    print(\"Error Code:\", err.errno)\n",
    "    print(\"SQLSTATE\", err.sqlstate)\n",
    "    print(\"Message\", err.msg)"
   ]
  },
  {
   "cell_type": "code",
   "execution_count": 12,
   "id": "4a2ea4df",
   "metadata": {},
   "outputs": [
    {
     "name": "stdout",
     "output_type": "stream",
     "text": [
      "2500 registro insertado.\n"
     ]
    }
   ],
   "source": [
    "cnx = mysql.connector.connect(user='root', password='AlumnaAdalab',\n",
    "                              host='127.0.0.1', database='prueba1')\n",
    "\n",
    "mycursor = cnx.cursor()\n",
    "query = \"\"\"\n",
    "    INSERT INTO tabla_tracks (\n",
    "        nombre_artista, album, fecha, tipo, track\n",
    "    ) VALUES (%s, %s, %s, %s, %s)\n",
    "\"\"\"\n",
    "datos = []\n",
    "with open('tracks_classical.csv') as file:\n",
    "    reader = csv.reader(file)\n",
    "    next(reader)  # Saltar encabezados si existen\n",
    "    for fila in reader:\n",
    "            datos.append(fila)\n",
    "\n",
    "try: \n",
    "    mycursor.executemany(query, datos)\n",
    "    cnx.commit()\n",
    "    print(mycursor.rowcount, \"registro insertado.\")\n",
    "\n",
    "except mysql.connector.Error as err:\n",
    "    print(err)\n",
    "    print(\"Error Code:\", err.errno)\n",
    "    print(\"SQLSTATE\", err.sqlstate)\n",
    "    print(\"Message\", err.msg)\n",
    "\n",
    "mycursor.close()\n",
    "cnx.close()"
   ]
  },
  {
   "cell_type": "code",
   "execution_count": 5,
   "id": "e9590f71",
   "metadata": {},
   "outputs": [],
   "source": [
    "# usar este código en sql, pero antes poner en la tabla géneros los géneros\n",
    "#UPDATE tabla_tracks SET id_genero = 1 WHERE id_track BETWEEN 15001 AND 16000;"
   ]
  },
  {
   "cell_type": "code",
   "execution_count": 13,
   "id": "338fd404",
   "metadata": {},
   "outputs": [
    {
     "name": "stdout",
     "output_type": "stream",
     "text": [
      "2500 registro insertado.\n"
     ]
    }
   ],
   "source": [
    "cnx = mysql.connector.connect(user='root', password='AlumnaAdalab',\n",
    "                              host='127.0.0.1', database='prueba1')\n",
    "\n",
    "mycursor = cnx.cursor()\n",
    "query = \"\"\"\n",
    "    INSERT INTO tabla_tracks (\n",
    "        nombre_artista, album, fecha, tipo, track\n",
    "    ) VALUES (%s, %s, %s, %s, %s)\n",
    "\"\"\"\n",
    "datos = []\n",
    "with open('track_jazz.csv') as file:\n",
    "    reader = csv.reader(file)\n",
    "    next(reader)  # Saltar encabezados si existen\n",
    "    for fila in reader:\n",
    "            datos.append(fila)\n",
    "\n",
    "try: \n",
    "    mycursor.executemany(query, datos)\n",
    "    cnx.commit()\n",
    "    print(mycursor.rowcount, \"registro insertado.\")\n",
    "\n",
    "except mysql.connector.Error as err:\n",
    "    print(err)\n",
    "    print(\"Error Code:\", err.errno)\n",
    "    print(\"SQLSTATE\", err.sqlstate)\n",
    "    print(\"Message\", err.msg)\n",
    "\n",
    "mycursor.close()\n",
    "cnx.close()"
   ]
  },
  {
   "cell_type": "code",
   "execution_count": 7,
   "id": "0f03f006",
   "metadata": {},
   "outputs": [],
   "source": [
    "#UPDATE tabla_tracks SET id_genero = 1 WHERE id_track BETWEEN 16001 AND 30000;"
   ]
  },
  {
   "cell_type": "code",
   "execution_count": 14,
   "id": "9f6b021f",
   "metadata": {},
   "outputs": [
    {
     "name": "stdout",
     "output_type": "stream",
     "text": [
      "2500 registro insertado.\n"
     ]
    }
   ],
   "source": [
    "cnx = mysql.connector.connect(user='root', password='AlumnaAdalab',\n",
    "                              host='127.0.0.1', database='prueba1')\n",
    "\n",
    "mycursor = cnx.cursor()\n",
    "query = \"\"\"\n",
    "    INSERT INTO tabla_tracks (\n",
    "        nombre_artista, album, fecha, tipo, track\n",
    "    ) VALUES (%s, %s, %s, %s, %s)\n",
    "\"\"\"\n",
    "datos = []\n",
    "with open('tracks_pop.csv') as file:\n",
    "    reader = csv.reader(file)\n",
    "    next(reader)  # Saltar encabezados si existen\n",
    "    for fila in reader:\n",
    "            datos.append(fila)\n",
    "\n",
    "try: \n",
    "    mycursor.executemany(query, datos)\n",
    "    cnx.commit()\n",
    "    print(mycursor.rowcount, \"registro insertado.\")\n",
    "\n",
    "except mysql.connector.Error as err:\n",
    "    print(err)\n",
    "    print(\"Error Code:\", err.errno)\n",
    "    print(\"SQLSTATE\", err.sqlstate)\n",
    "    print(\"Message\", err.msg)\n",
    "\n",
    "mycursor.close()\n",
    "cnx.close()"
   ]
  },
  {
   "cell_type": "code",
   "execution_count": 9,
   "id": "e4521962",
   "metadata": {},
   "outputs": [],
   "source": [
    "#UPDATE tabla_tracks SET id_genero = 1 WHERE id_track BETWEEN 30001 AND 32500;"
   ]
  },
  {
   "cell_type": "code",
   "execution_count": 15,
   "id": "3dd32766",
   "metadata": {},
   "outputs": [
    {
     "name": "stdout",
     "output_type": "stream",
     "text": [
      "2500 registro insertado.\n"
     ]
    }
   ],
   "source": [
    "cnx = mysql.connector.connect(user='root', password='AlumnaAdalab',\n",
    "                              host='127.0.0.1', database='prueba1')\n",
    "\n",
    "mycursor = cnx.cursor()\n",
    "query = \"\"\"\n",
    "    INSERT INTO tabla_tracks (\n",
    "        nombre_artista, album, fecha, tipo, track\n",
    "    ) VALUES (%s, %s, %s, %s, %s)\n",
    "\"\"\"\n",
    "datos = []\n",
    "with open('tracks_rock.csv') as file:\n",
    "    reader = csv.reader(file)\n",
    "    next(reader)  # Saltar encabezados si existen\n",
    "    for fila in reader:\n",
    "            datos.append(fila)\n",
    "\n",
    "try: \n",
    "    mycursor.executemany(query, datos)\n",
    "    cnx.commit()\n",
    "    print(mycursor.rowcount, \"registro insertado.\")\n",
    "\n",
    "except mysql.connector.Error as err:\n",
    "    print(err)\n",
    "    print(\"Error Code:\", err.errno)\n",
    "    print(\"SQLSTATE\", err.sqlstate)\n",
    "    print(\"Message\", err.msg)\n",
    "\n",
    "mycursor.close()\n",
    "cnx.close()"
   ]
  },
  {
   "cell_type": "code",
   "execution_count": 11,
   "id": "a642dbd6",
   "metadata": {},
   "outputs": [],
   "source": [
    "#UPDATE tabla_tracks SET id_genero = 1 WHERE id_track BETWEEN 32501 AND 35000;"
   ]
  }
 ],
 "metadata": {
  "kernelspec": {
   "display_name": "base",
   "language": "python",
   "name": "python3"
  },
  "language_info": {
   "codemirror_mode": {
    "name": "ipython",
    "version": 3
   },
   "file_extension": ".py",
   "mimetype": "text/x-python",
   "name": "python",
   "nbconvert_exporter": "python",
   "pygments_lexer": "ipython3",
   "version": "3.12.7"
  }
 },
 "nbformat": 4,
 "nbformat_minor": 5
}
