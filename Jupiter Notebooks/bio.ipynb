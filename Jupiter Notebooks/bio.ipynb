{
 "cells": [
  {
   "cell_type": "code",
   "execution_count": null,
   "id": "4f5ae2ef",
   "metadata": {},
   "outputs": [],
   "source": [
    "import requests\n",
    "from dotenv import load_dotenv\n",
    "import os\n",
    "\n",
    "load_dotenv(dotenv_path=\"api.env\")\n",
    "\n",
    "api_key = os.getenv(\"API_KEY_LASTFM\")  # Asegurate de que este nombre coincide con tu archivo .env\n",
    "print(\"Tu API Key es:\", api_key)"
   ]
  },
  {
   "cell_type": "code",
   "execution_count": null,
   "id": "7027a2fa",
   "metadata": {},
   "outputs": [],
   "source": [
    "import json\n",
    "import pandas as pd"
   ]
  },
  {
   "cell_type": "code",
   "execution_count": null,
   "id": "ab0ed2cf",
   "metadata": {},
   "outputs": [],
   "source": [
    "import csv\n",
    "with open('/Users/ananobre/Adalab_Bootcamp/Projetos Pessoais para Git/SQL-and-Python-Music-Analytics-Decision-Making/jazz_artists.csv', \"r\") as archivo:\n",
    "    lector = csv.reader(archivo)\n",
    "    lista_artistas = list(lector) "
   ]
  },
  {
   "cell_type": "code",
   "execution_count": null,
   "id": "821763cc",
   "metadata": {},
   "outputs": [],
   "source": [
    "for i in lista_artistas:\n",
    "    print(i)"
   ]
  },
  {
   "cell_type": "code",
   "execution_count": null,
   "id": "368f470c",
   "metadata": {},
   "outputs": [],
   "source": [
    "def bio(artist, api_key):\n",
    "    url = 'http://ws.audioscrobbler.com/2.0/'\n",
    "    params = {\n",
    "        'method': 'artist.getinfo',\n",
    "        'artist' : artist,\n",
    "        'api_key': api_key,\n",
    "        'format': 'json'\n",
    "        }\n",
    "    biografias = []\n",
    "    response = requests.get(url, params=params)\n",
    "\n",
    "    if response.status_code != 200:\n",
    "        print(f\"Da error\")\n",
    "    else:\n",
    "        datos = response.json()\n",
    "        resumen = datos['artist']['bio']['summary']\n",
    "        return resumen\n",
    "        "
   ]
  },
  {
   "cell_type": "code",
   "execution_count": null,
   "id": "684345dd",
   "metadata": {},
   "outputs": [],
   "source": [
    "resultados_nombres = []\n",
    "limit = 200\n",
    "contador = 0\n",
    "for i in lista_artistas:\n",
    "    if contador >= limit:\n",
    "        break\n",
    "    resumen = bio(i, api_key)\n",
    "    resultados_nombres.append({\n",
    "        'artista': i,\n",
    "        'biografia': resumen\n",
    "    })\n",
    "\n",
    "    contador += 1\n",
    "\n"
   ]
  },
  {
   "cell_type": "code",
   "execution_count": null,
   "id": "277f4bad",
   "metadata": {},
   "outputs": [],
   "source": [
    "df = pd.DataFrame(resultados_nombres)"
   ]
  },
  {
   "cell_type": "code",
   "execution_count": null,
   "id": "c6f73439",
   "metadata": {},
   "outputs": [],
   "source": [
    "lista_artistas_limpia = [artista[0] if isinstance(artista, list) else artista for artista in lista_artistas] # clean brackets"
   ]
  },
  {
   "cell_type": "code",
   "execution_count": null,
   "id": "5cf38042",
   "metadata": {},
   "outputs": [],
   "source": [
    "df['artista'] = df['artista'].apply(lambda x: x[0] if isinstance(x, list) else x)"
   ]
  },
  {
   "cell_type": "code",
   "execution_count": null,
   "id": "75fdfc6c",
   "metadata": {},
   "outputs": [],
   "source": [
    "df.head()"
   ]
  },
  {
   "cell_type": "code",
   "execution_count": null,
   "id": "1fa01045",
   "metadata": {},
   "outputs": [],
   "source": [
    "df.to_csv('bio_rock.csv', index=False)"
   ]
  }
 ],
 "metadata": {
  "kernelspec": {
   "display_name": "Python 3",
   "language": "python",
   "name": "python3"
  },
  "language_info": {
   "codemirror_mode": {
    "name": "ipython",
    "version": 3
   },
   "file_extension": ".py",
   "mimetype": "text/x-python",
   "name": "python",
   "nbconvert_exporter": "python",
   "pygments_lexer": "ipython3",
   "version": "3.13.3"
  }
 },
 "nbformat": 4,
 "nbformat_minor": 5
}
