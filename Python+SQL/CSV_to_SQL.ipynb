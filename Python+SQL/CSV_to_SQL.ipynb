{
 "cells": [
  {
   "cell_type": "code",
   "execution_count": null,
   "id": "0585809a",
   "metadata": {},
   "outputs": [],
   "source": [
    "import requests\n",
    "from dotenv import load_dotenv\n",
    "import os\n",
    "load_dotenv(dotenv_path=\"api.env\")\n",
    "api_key = os.getenv(\"API_KEY_LASTFM\") \n",
    "import json\n",
    "import pandas as pd\n",
    "import csv\n",
    "\n",
    "\n",
    "with open('list_artist_rock.csv', \"r\") as archivo:\n",
    "    lector = csv.reader(archivo)\n",
    "    lista = list(lector) \n",
    "\n",
    "\n",
    "def stats(id_genero, artist, api_key):\n",
    "    url = 'http://ws.audioscrobbler.com/2.0/'\n",
    "    params = {\n",
    "        'method': 'artist.getinfo',\n",
    "        'artist' : artist,\n",
    "        'api_key':  api_key,\n",
    "        'format': 'json',\n",
    "        'lang': 'es'\n",
    "        }\n",
    "\n",
    "    response = requests.get(url, params=params)\n",
    "    if response.status_code != 200:\n",
    "        print(f\"Da error\")\n",
    "    else:\n",
    "        datos = response.json()\n",
    "        info = datos['artist']['stats'] #extraer listeners y plays por separado\n",
    "        info_artista = {\n",
    "            'id_genero': id_genero,\n",
    "            'artista': artist, \n",
    "            'oyentes': info.get('listeners'),\n",
    "            'reproducciones': info.get('playcount'),\n",
    "            }\n",
    "        \n",
    "    return info_artista\n",
    "\n",
    "\n",
    "\n",
    "generos = {\n",
    "    'classical': 1,\n",
    "    'jazz': 2,\n",
    "    'pop': 3,\n",
    "    'rock': 4\n",
    "}\n",
    "\n",
    "\n",
    "lista = [i[0] if isinstance(i, list) else i for i in lista]\n",
    "\n",
    "\n",
    "statistics = []\n",
    "limit = 200\n",
    "for contador, nombre_artista in enumerate(lista):\n",
    "    if contador >= limit:\n",
    "        break\n",
    "    statistics.append(stats(nombre_artista, api_key))"
   ]
  },
  {
   "cell_type": "markdown",
   "id": "517a3975",
   "metadata": {},
   "source": [
    "-----------------"
   ]
  },
  {
   "cell_type": "code",
   "execution_count": 34,
   "id": "6d3e0a07",
   "metadata": {},
   "outputs": [],
   "source": [
    "df_classical = pd.read_csv(\"list_artist_classical.csv\")\n",
    "df_jazz = pd.read_csv(\"list_artist_jazz.csv\")\n",
    "df_pop = pd.read_csv(\"list_artist_pop.csv\")\n",
    "df_rock = pd.read_csv(\"list_artist_rock.csv\")"
   ]
  },
  {
   "cell_type": "code",
   "execution_count": 35,
   "id": "633428cd",
   "metadata": {},
   "outputs": [],
   "source": [
    "csvs_generos = {\n",
    "    \"list_artist_classical.csv\": 1,\n",
    "    \"list_artist_jazz.csv\": 2,\n",
    "    \"list_artist_pop.csv\": 3,\n",
    "    \"list_artist_rock.csv\": 4\n",
    "}"
   ]
  },
  {
   "cell_type": "code",
   "execution_count": 36,
   "id": "91c4f1db",
   "metadata": {},
   "outputs": [],
   "source": [
    "statistics = []\n",
    "limit = 200\n",
    "\n",
    "for archivo_csv, id_genero in csvs_generos.items():\n",
    "    df = pd.read_csv(archivo_csv, header=None, names=['nombre_artista'])\n",
    "\n",
    "    artistas = df['nombre_artista']\n",
    "\n",
    "    for contador, nombre_artista in enumerate(artistas):\n",
    "        if contador >= limit:\n",
    "            break\n",
    "\n",
    "        try:\n",
    "            data = stats(id_genero, nombre_artista, api_key)\n",
    "            if data:\n",
    "                statistics.append(data)\n",
    "        except Exception as e:\n",
    "            print(f\"Error con artista '{nombre_artista}': {e}\")"
   ]
  },
  {
   "cell_type": "code",
   "execution_count": 37,
   "id": "bb021051",
   "metadata": {},
   "outputs": [],
   "source": [
    "import mysql.connector\n",
    "from mysql.connector import errorcode"
   ]
  },
  {
   "cell_type": "code",
   "execution_count": null,
   "id": "4eddf4e4",
   "metadata": {},
   "outputs": [],
   "source": [
    "cnx = mysql.connector.connect(user='root', password='AlumnaAdalab',\n",
    "                              host='127.0.0.1',\n",
    "                              database='Musicproject')\n",
    "\n",
    "print(cnx)\n"
   ]
  },
  {
   "cell_type": "code",
   "execution_count": null,
   "id": "321f90d4",
   "metadata": {},
   "outputs": [],
   "source": [
    "mycursor = cnx.cursor()\n",
    "\n",
    "query = \"INSERT INTO Tabla_stats (id_genero, nombre_artista, oyentes, reproduccion) VALUES (%s, %s, %s, %s)\"\n",
    "\n",
    "# Convertir lista de diccionarios a lista de tuplas\n",
    "valores = [(d['id_genero'], d['artista'], d['oyentes'], d['reproducciones']) for d in statistics]\n",
    "\n",
    "try:\n",
    "    mycursor.executemany(query, valores)\n",
    "    cnx.commit()\n",
    "    print(mycursor.rowcount, \"registros insertados.\")\n",
    "except mysql.connector.Error as err:\n",
    "    print(err)"
   ]
  },
  {
   "cell_type": "code",
   "execution_count": null,
   "id": "3c968604",
   "metadata": {},
   "outputs": [],
   "source": [
    "cnx.close()"
   ]
  }
 ],
 "metadata": {
  "kernelspec": {
   "display_name": "base",
   "language": "python",
   "name": "python3"
  },
  "language_info": {
   "codemirror_mode": {
    "name": "ipython",
    "version": 3
   },
   "file_extension": ".py",
   "mimetype": "text/x-python",
   "name": "python",
   "nbconvert_exporter": "python",
   "pygments_lexer": "ipython3",
   "version": "3.12.7"
  }
 },
 "nbformat": 4,
 "nbformat_minor": 5
}
