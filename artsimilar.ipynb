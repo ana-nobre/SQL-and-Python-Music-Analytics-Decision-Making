{
 "cells": [
  {
   "cell_type": "code",
   "execution_count": 15,
   "id": "fe6ad03d",
   "metadata": {},
   "outputs": [],
   "source": [
    "import json\n",
    "import pandas as pd"
   ]
  },
  {
   "cell_type": "code",
   "execution_count": 16,
   "id": "3001c2c6",
   "metadata": {},
   "outputs": [],
   "source": [
    "import requests\n",
    "from dotenv import load_dotenv\n",
    "import os\n",
    "\n",
    "load_dotenv(dotenv_path=\"api.env\")\n",
    "\n",
    "api_key = os.getenv(\"API_KEY_LASTFM\") "
   ]
  },
  {
   "cell_type": "code",
   "execution_count": null,
   "id": "f6edf320",
   "metadata": {},
   "outputs": [],
   "source": [
    "import csv\n",
    "with open('list_artist_classical.csv', \"r\") as archivo:\n",
    "    lector = csv.reader(archivo)\n",
    "    lista = list(lector) "
   ]
  },
  {
   "cell_type": "code",
   "execution_count": 17,
   "id": "374d2abb",
   "metadata": {},
   "outputs": [],
   "source": [
    "import csv\n",
    "limit = 200\n",
    "contador = 0\n",
    "resultados_nombres = []\n",
    "\n",
    "\n",
    "def similar_artistas(artist, api_key):\n",
    "    url = 'http://ws.audioscrobbler.com/2.0/'\n",
    "    params = {\n",
    "        'method': 'artist.getinfo',\n",
    "        'artist': artist,\n",
    "        'api_key': api_key,\n",
    "        'format': 'json'\n",
    "    }\n",
    "    try:\n",
    "        r = requests.get(url, params=params)\n",
    "        data = r.json()\n",
    "    \n",
    "        similares = data.get('artist', {}).get('similar', {}).get('artist', [])\n",
    "         # Tomar como máximo 3 similares\n",
    "        similares = similares[:3]\n",
    "        return [{'id_genero': '4', 'artista': artist, 'similar': s['name']} for s in similares]\n",
    "    except:\n",
    "        return []\n",
    "\n",
    "# Leer artistas desde CSV\n",
    "with open('list_artist_rock.csv', 'r', encoding='utf-8') as archivo:\n",
    "    lector = csv.reader(archivo)\n",
    "    next(lector)  # Saltar encabezado si lo tiene\n",
    "    for fila in lector:\n",
    "        if contador >= limit:\n",
    "            break\n",
    "        artista = fila[0].strip()\n",
    "        similares = similar_artistas(artista, api_key)\n",
    "        resultados_nombres.extend(similares)\n",
    "        contador += 1"
   ]
  },
  {
   "cell_type": "markdown",
   "id": "8d4e3293",
   "metadata": {},
   "source": [
    "--------------------------"
   ]
  },
  {
   "cell_type": "code",
   "execution_count": 18,
   "id": "b0548669",
   "metadata": {},
   "outputs": [
    {
     "data": {
      "text/html": [
       "<div>\n",
       "<style scoped>\n",
       "    .dataframe tbody tr th:only-of-type {\n",
       "        vertical-align: middle;\n",
       "    }\n",
       "\n",
       "    .dataframe tbody tr th {\n",
       "        vertical-align: top;\n",
       "    }\n",
       "\n",
       "    .dataframe thead th {\n",
       "        text-align: right;\n",
       "    }\n",
       "</style>\n",
       "<table border=\"1\" class=\"dataframe\">\n",
       "  <thead>\n",
       "    <tr style=\"text-align: right;\">\n",
       "      <th></th>\n",
       "      <th>id_genero</th>\n",
       "      <th>artista</th>\n",
       "      <th>similar</th>\n",
       "    </tr>\n",
       "  </thead>\n",
       "  <tbody>\n",
       "    <tr>\n",
       "      <th>0</th>\n",
       "      <td>4</td>\n",
       "      <td>Joan Colomo</td>\n",
       "      <td>El Petit De Cal Eril</td>\n",
       "    </tr>\n",
       "    <tr>\n",
       "      <th>1</th>\n",
       "      <td>4</td>\n",
       "      <td>Joan Colomo</td>\n",
       "      <td>La Iaia</td>\n",
       "    </tr>\n",
       "    <tr>\n",
       "      <th>2</th>\n",
       "      <td>4</td>\n",
       "      <td>Joan Colomo</td>\n",
       "      <td>Mishima</td>\n",
       "    </tr>\n",
       "    <tr>\n",
       "      <th>3</th>\n",
       "      <td>4</td>\n",
       "      <td>Familia Caamagno</td>\n",
       "      <td>Terbutalina</td>\n",
       "    </tr>\n",
       "    <tr>\n",
       "      <th>4</th>\n",
       "      <td>4</td>\n",
       "      <td>Familia Caamagno</td>\n",
       "      <td>Oh! Ayatollah</td>\n",
       "    </tr>\n",
       "    <tr>\n",
       "      <th>...</th>\n",
       "      <td>...</td>\n",
       "      <td>...</td>\n",
       "      <td>...</td>\n",
       "    </tr>\n",
       "    <tr>\n",
       "      <th>568</th>\n",
       "      <td>4</td>\n",
       "      <td>Kokein</td>\n",
       "      <td>Urgabe</td>\n",
       "    </tr>\n",
       "    <tr>\n",
       "      <th>569</th>\n",
       "      <td>4</td>\n",
       "      <td>Kokein</td>\n",
       "      <td>Seiurte</td>\n",
       "    </tr>\n",
       "    <tr>\n",
       "      <th>570</th>\n",
       "      <td>4</td>\n",
       "      <td>Eneritz Furyak</td>\n",
       "      <td>Joseba B. Lenoir</td>\n",
       "    </tr>\n",
       "    <tr>\n",
       "      <th>571</th>\n",
       "      <td>4</td>\n",
       "      <td>Eneritz Furyak</td>\n",
       "      <td>Willis Drummond</td>\n",
       "    </tr>\n",
       "    <tr>\n",
       "      <th>572</th>\n",
       "      <td>4</td>\n",
       "      <td>Eneritz Furyak</td>\n",
       "      <td>M I C E</td>\n",
       "    </tr>\n",
       "  </tbody>\n",
       "</table>\n",
       "<p>573 rows × 3 columns</p>\n",
       "</div>"
      ],
      "text/plain": [
       "    id_genero           artista               similar\n",
       "0           4       Joan Colomo  El Petit De Cal Eril\n",
       "1           4       Joan Colomo               La Iaia\n",
       "2           4       Joan Colomo               Mishima\n",
       "3           4  Familia Caamagno           Terbutalina\n",
       "4           4  Familia Caamagno         Oh! Ayatollah\n",
       "..        ...               ...                   ...\n",
       "568         4            Kokein                Urgabe\n",
       "569         4            Kokein               Seiurte\n",
       "570         4    Eneritz Furyak      Joseba B. Lenoir\n",
       "571         4    Eneritz Furyak       Willis Drummond\n",
       "572         4    Eneritz Furyak               M I C E\n",
       "\n",
       "[573 rows x 3 columns]"
      ]
     },
     "execution_count": 18,
     "metadata": {},
     "output_type": "execute_result"
    }
   ],
   "source": [
    "df = pd.DataFrame(resultados_nombres)\n",
    "df.to_csv('similar_rock.csv', index=False)\n",
    "df"
   ]
  },
  {
   "cell_type": "code",
   "execution_count": 4,
   "id": "991b7791",
   "metadata": {},
   "outputs": [],
   "source": [
    "def similar_artistas(artist, api_key):\n",
    "    url = 'http://ws.audioscrobbler.com/2.0/'\n",
    "    params = {\n",
    "        'method': 'artist.getinfo',\n",
    "        'artist' : artist,\n",
    "        'api_key': api_key,\n",
    "        'format': 'json'\n",
    "        }\n",
    "    nombres = []\n",
    "    response = requests.get(url, params=params)\n",
    "    if response.status_code != 200:\n",
    "        print(f\"Da error\")\n",
    "    else:\n",
    "        datos = response.json()\n",
    "        artistas_similares = datos.get('artist').get('similar')\n",
    "        for artist in artistas_similares.get('artist'):\n",
    "                nombres.append(artist['name'])\n",
    "    return nombres\n"
   ]
  },
  {
   "cell_type": "code",
   "execution_count": 2,
   "id": "7a585d29",
   "metadata": {},
   "outputs": [],
   "source": [
    "# Função para limpar o nome do artista\n",
    "def limpar_nome(artist):\n",
    "    # Si es lista, tomar el primer elemento\n",
    "    if isinstance(artist, list) and len(artist) > 0:\n",
    "        artist = artist[0]\n",
    "    # Convertir a string (por si no lo es) y limpiar espacios y caracteres\n",
    "    artist = str(artist).strip(\"[]'\\\" \")\n",
    "    return artist\n"
   ]
  },
  {
   "cell_type": "code",
   "execution_count": null,
   "id": "47607748",
   "metadata": {},
   "outputs": [
    {
     "ename": "NameError",
     "evalue": "name 'lista' is not defined",
     "output_type": "error",
     "traceback": [
      "\u001b[1;31m---------------------------------------------------------------------------\u001b[0m",
      "\u001b[1;31mNameError\u001b[0m                                 Traceback (most recent call last)",
      "Cell \u001b[1;32mIn[1], line 4\u001b[0m\n\u001b[0;32m      2\u001b[0m limit \u001b[38;5;241m=\u001b[39m \u001b[38;5;241m200\u001b[39m\n\u001b[0;32m      3\u001b[0m contador \u001b[38;5;241m=\u001b[39m \u001b[38;5;241m0\u001b[39m\n\u001b[1;32m----> 4\u001b[0m \u001b[38;5;28;01mfor\u001b[39;00m i \u001b[38;5;129;01min\u001b[39;00m lista:\n\u001b[0;32m      5\u001b[0m     \u001b[38;5;28;01mif\u001b[39;00m contador \u001b[38;5;241m>\u001b[39m\u001b[38;5;241m=\u001b[39m limit:\n\u001b[0;32m      6\u001b[0m         \u001b[38;5;28;01mbreak\u001b[39;00m\n",
      "\u001b[1;31mNameError\u001b[0m: name 'lista' is not defined"
     ]
    }
   ],
   "source": [
    "#CHECK BELOW---\n",
    "resultados_nombres = []\n",
    "limit = 200\n",
    "contador = 0\n",
    "for i in lista:\n",
    "    if contador >= limit:\n",
    "        break\n",
    "    similares = similar_artistas(i, api_key)\n",
    "    resultados_nombres.append({\n",
    "        'artista': i,\n",
    "        'similares': similares\n",
    "    })\n",
    "    contador += 1\n"
   ]
  },
  {
   "cell_type": "code",
   "execution_count": null,
   "id": "2aa3c583",
   "metadata": {},
   "outputs": [],
   "source": [
    "df = pd.DataFrame(resultados_nombres)\n",
    "df.to_csv('similar_jazz.csv', index=False)"
   ]
  },
  {
   "cell_type": "code",
   "execution_count": null,
   "id": "e1c32790",
   "metadata": {},
   "outputs": [
    {
     "data": {
      "text/html": [
       "<div>\n",
       "<style scoped>\n",
       "    .dataframe tbody tr th:only-of-type {\n",
       "        vertical-align: middle;\n",
       "    }\n",
       "\n",
       "    .dataframe tbody tr th {\n",
       "        vertical-align: top;\n",
       "    }\n",
       "\n",
       "    .dataframe thead th {\n",
       "        text-align: right;\n",
       "    }\n",
       "</style>\n",
       "<table border=\"1\" class=\"dataframe\">\n",
       "  <thead>\n",
       "    <tr style=\"text-align: right;\">\n",
       "      <th></th>\n",
       "    </tr>\n",
       "  </thead>\n",
       "  <tbody>\n",
       "  </tbody>\n",
       "</table>\n",
       "</div>"
      ],
      "text/plain": [
       "Empty DataFrame\n",
       "Columns: []\n",
       "Index: []"
      ]
     },
     "execution_count": 29,
     "metadata": {},
     "output_type": "execute_result"
    }
   ],
   "source": [
    "df"
   ]
  }
 ],
 "metadata": {
  "kernelspec": {
   "display_name": "base",
   "language": "python",
   "name": "python3"
  },
  "language_info": {
   "codemirror_mode": {
    "name": "ipython",
    "version": 3
   },
   "file_extension": ".py",
   "mimetype": "text/x-python",
   "name": "python",
   "nbconvert_exporter": "python",
   "pygments_lexer": "ipython3",
   "version": "3.12.7"
  }
 },
 "nbformat": 4,
 "nbformat_minor": 5
}
