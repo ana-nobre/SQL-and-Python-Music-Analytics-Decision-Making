{
 "cells": [
  {
   "cell_type": "code",
   "execution_count": null,
   "id": "d30c6114",
   "metadata": {},
   "outputs": [
    {
     "name": "stdout",
     "output_type": "stream",
     "text": [
      "Env loaded: True | Using: /Users/ananobre/Adalab_Bootcamp/Projetos Pessoais para Git/SQL-and-Python-Music-Analytics-Decision-Making/api.env\n"
     ]
    }
   ],
   "source": [
    "import requests\n",
    "from dotenv import load_dotenv\n",
    "import os\n",
    "import json\n",
    "import pandas as pd\n",
    "\n",
    "env_path = '/Users/ananobre/Adalab_Bootcamp/Projetos Pessoais para Git/SQL-and-Python-Music-Analytics-Decision-Making/api.env'\n",
    "loaded = load_dotenv(dotenv_path=env_path)\n",
    "print(\"Env loaded:\", loaded, \"| Using:\", env_path)\n",
    "\n",
    "api_key = os.getenv(\"API_KEY_LASTFM\")  # Asegurate de que este nombre coincide con tu archivo .env"
   ]
  },
  {
   "cell_type": "code",
   "execution_count": 9,
   "id": "0ee54afc",
   "metadata": {},
   "outputs": [],
   "source": [
    "def stats(id_genero, artist, api_key):\n",
    "    url = 'http://ws.audioscrobbler.com/2.0/'\n",
    "    params = {\n",
    "        'method': 'artist.getinfo',\n",
    "        'artist' : artist,\n",
    "        'api_key':  api_key,\n",
    "        'format': 'json',\n",
    "        'lang': 'es'\n",
    "        }\n",
    "\n",
    "    response = requests.get(url, params=params)\n",
    "    if response.status_code != 200:\n",
    "        print(f\"Da error\")\n",
    "    else:\n",
    "        datos = response.json()\n",
    "        info = datos['artist']['stats'] #extraer listeners y plays por separado\n",
    "        info_artista = {\n",
    "            'id_genero': id_genero,\n",
    "            'artista': artist, \n",
    "            'oyentes': info.get('listeners'),\n",
    "            'reproducciones': info.get('playcount'),\n",
    "            } \n",
    "        return info_artista"
   ]
  },
  {
   "cell_type": "code",
   "execution_count": 7,
   "id": "82dc96ce",
   "metadata": {},
   "outputs": [],
   "source": [
    "gender = {\n",
    "    'classical': 1,\n",
    "    'jazz': 2,\n",
    "    'pop': 3,\n",
    "    'rock': 4\n",
    "}"
   ]
  },
  {
   "cell_type": "code",
   "execution_count": 12,
   "id": "f3e36657",
   "metadata": {},
   "outputs": [
    {
     "data": {
      "text/plain": [
       "{'id_genero': 1,\n",
       " 'artista': 'Bach',\n",
       " 'oyentes': '271266',\n",
       " 'reproducciones': '5836350'}"
      ]
     },
     "execution_count": 12,
     "metadata": {},
     "output_type": "execute_result"
    }
   ],
   "source": [
    "stats(1,\"Bach\",api_key)"
   ]
  },
  {
   "cell_type": "code",
   "execution_count": null,
   "id": "8252198b",
   "metadata": {},
   "outputs": [],
   "source": [
    "for i in lista:\n",
    "    print(i)"
   ]
  },
  {
   "cell_type": "code",
   "execution_count": null,
   "id": "d139a8ba",
   "metadata": {},
   "outputs": [],
   "source": [
    "lista = [i[0] if isinstance(i, list) else i for i in lista]"
   ]
  },
  {
   "cell_type": "code",
   "execution_count": null,
   "id": "e6fd1c36",
   "metadata": {},
   "outputs": [],
   "source": [
    "statistics = []\n",
    "limit = 200\n",
    "for contador, nombre_artista in enumerate(lista):\n",
    "    if contador >= limit:\n",
    "        break\n",
    "    statistics.append(stats(nombre_artista, api_key, generos['rock']))"
   ]
  },
  {
   "cell_type": "code",
   "execution_count": null,
   "id": "81ad0b92",
   "metadata": {},
   "outputs": [],
   "source": [
    "statistics"
   ]
  },
  {
   "cell_type": "code",
   "execution_count": null,
   "id": "744ed1ba",
   "metadata": {},
   "outputs": [],
   "source": [
    "df = pd.DataFrame(statistics)\n",
    "df.to_csv('stats_rock.csv', index=False)"
   ]
  },
  {
   "cell_type": "markdown",
   "id": "ece7edfa",
   "metadata": {},
   "source": [
    "------------------"
   ]
  }
 ],
 "metadata": {
  "kernelspec": {
   "display_name": "Python 3",
   "language": "python",
   "name": "python3"
  },
  "language_info": {
   "codemirror_mode": {
    "name": "ipython",
    "version": 3
   },
   "file_extension": ".py",
   "mimetype": "text/x-python",
   "name": "python",
   "nbconvert_exporter": "python",
   "pygments_lexer": "ipython3",
   "version": "3.13.3"
  }
 },
 "nbformat": 4,
 "nbformat_minor": 5
}
